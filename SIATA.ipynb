{
 "cells": [
  {
   "cell_type": "markdown",
   "metadata": {},
   "source": [
    "# TRABAJO DE ACÚSCTICA AMBIENTAL (SIATA)"
   ]
  },
  {
   "cell_type": "markdown",
   "metadata": {},
   "source": [
    "### Integrantes del grupo:\n",
    "\n",
    "1. Diego González\n",
    "2. Ándres Arcila\n",
    "3. David Muñoz\n",
    "\n",
    "---"
   ]
  },
  {
   "cell_type": "markdown",
   "metadata": {},
   "source": [
    "### Información de la Tarea\n",
    "\n",
    "En el libro de Excel se encuentran los datos de las estaciones del **SIATA** (Sistema de Alerta Temprana de Medellín y el Valle de Aburrá) que miden nivel de presión sonora en el valle de Aburrá, nosotros decidimos escoger los valores LAeq,T medidos en la estación Itagüí. Se presenta un Nivel de ruido medido en ponderación A LAeq para una hora desde el 17 de agosto de 2016 hasta el 31 de diciembre de 2018. Existen campos con ausencia de datos, que equivalen a momentos donde las estaciones no tuvieron operación, o fueron datos eliminados por su característica atípica.\n",
    "\n",
    "Link del [Excel](https://usbmedellin.sharepoint.com/:x:/r/sites/2021-1ACSTICAAMBIENTAL/_layouts/15/doc2.aspx?sourcedoc=%7B440400A5-6FB2-4695-BF24-80ACA6791B4C%7D&file=SIATA+HORA.xlsx&action=default&mobileredirect=true&wdOrigin=TEAMS-ASSIGN-CLIENT.ASSIGN-STUD-VIEW.STUD&cid=52176650-a069-487e-9051-72b76da76f65).\n",
    "\n",
    "---"
   ]
  },
  {
   "cell_type": "markdown",
   "metadata": {},
   "source": [
    "### Información del Entregable\n",
    "\n",
    "Los gráficos creados deben estar debidamente marcados: ejes (Nivel de Presión LAeq [dB] Vs. Tiempo de evaluación [unidad correspondiente]), leyendas claras y líneas de colores adecuadas para distinguir los periodos de evaluación para el tiempo reportado en los datos. Pueden usarse hojas de cálculo de Excel, o programación en Matlab, el resumen deberá ser entregado en un archivo pdf. Como lo hemos venido trabajando en la marcación. \n",
    "\n",
    "Esta información bien realizada contribuirá para los siguientes parciales y será reconocido en un porcentaje de esas evaluaciones de manera adicional. Por grupo se debe escoger una estación, y en orden de selección Notificar por el Chat de TEAMS cual usará cada uno, con el fin de no repetir. Esto tiene el objetivo de después de entrega, realizar una socialización de acuerdo al contacto e inmersión de las estaciones de monitoreo en cada lugar geográfico y las fuentes de ruido más predominantes.\n",
    "\n",
    "`Nota: Cada uno de los integrantes debe subir el trabajo en la tarea de teams`\n",
    "\n",
    "Link de la [Tarea](https://teams.microsoft.com/_?tenantId=6a810448-7e5b-4a03-8088-e27d4ba29f46#/classroom/General?threadId=19:e8b7c9db86024cdfbc569583662b3d71@thread.tacv2&ctx=channel).\n",
    "\n",
    "---"
   ]
  },
  {
   "cell_type": "markdown",
   "metadata": {},
   "source": [
    "### Tareas Individuales\n",
    "\n",
    "Ahora se van a especificar las tareas de cada uno para la elaboración del algoritmo.\n",
    "\n",
    "- [x] Tarea realizada\n",
    "- [ ] Tarea no realizada\n",
    "\n",
    "**Tareas de Ándres Arcila:**\n",
    "\n",
    "- [ ] con T cada hora para el tiempo de evaluación LAeq,1h\n",
    "- [ ] con T periodo diurno para el tiempo de evaluación LAeq,d.\n",
    "\n",
    "&nbsp;\n",
    "`Nota: calcular el nivel para las 14 horas del periodo dia de cada fecha, y graficar los resultados para todo el año`\n",
    "\n",
    "- [ ] con T periodo nocturno para el tiempo de evaluación LAeq,n\n",
    "\n",
    "&nbsp;\n",
    "`Nota: calcular el nivel para las 10 horas del periodo noche de cada fecha, y graficar los resultados para todo el año`\n",
    "\n",
    "**Tareas de Diego González:**\n",
    "\n",
    "- [ ] con T periodo diurno/nocturno para el tiempo de evaluación LAeq,dn\n",
    "\n",
    "&nbsp;\n",
    "`Nota: calcular el nivel para las 24 horas del periodo de cada día, y graficar los resultados para todo el año, a partir de los datos de LAeq,d, LAeq,n y LAeq,dn`\n",
    "\n",
    "- [ ] con T periodo semana por el para el tiempo LAeq,week\n",
    "\n",
    "&nbsp;\n",
    "`Nota: calcular el nivel para 7 días graficar los resultados para todo el año, a partir de los datos de LAeq,d, LAeq,n y LAeq,dn`\n",
    "\n",
    "- [ ] con T periodo mes para el tiempo de evaluación LAeq, month\n",
    "\n",
    "&nbsp;\n",
    "`Nota: calcular el nivel para cada mes y graficar los resultados para todo el año, a partir de los datos de LAeq,d, LAeq,n y LAeq,dn` \n",
    "\n",
    "**Tareas de David Muñoz:**\n",
    "\n",
    "- [ ] con T periodo trimestral para el tiempo de evaluación LAeq,3month\n",
    "\n",
    "&nbsp;\n",
    "`Nota: para cada periodos, diurno y nocturno, a partir de los datos de LAeq,d, LAeq,n y LAeq,dn`\n",
    "\n",
    "- [ ] Con T periodo anual para el tiempo de evaluación LAeq,year\n",
    "\n",
    "&nbsp;\n",
    "`Nota: para cada periodos, diurno y nocturno, a partir de los datos de LAeq,d, LAeq,n y LAeq,dn` \n",
    "\n",
    "---"
   ]
  },
  {
   "cell_type": "markdown",
   "metadata": {},
   "source": [
    "### Código Ándres Arcila"
   ]
  },
  {
   "cell_type": "code",
   "execution_count": 1,
   "metadata": {},
   "outputs": [],
   "source": [
    "# Estoy comentando este código"
   ]
  },
  {
   "cell_type": "markdown",
   "metadata": {},
   "source": [
    "---"
   ]
  },
  {
   "cell_type": "markdown",
   "metadata": {},
   "source": [
    "### Código Diego González"
   ]
  },
  {
   "cell_type": "code",
   "execution_count": null,
   "metadata": {},
   "outputs": [],
   "source": []
  },
  {
   "cell_type": "markdown",
   "metadata": {},
   "source": [
    "---"
   ]
  },
  {
   "cell_type": "markdown",
   "metadata": {},
   "source": [
    "### Código David Muñoz"
   ]
  },
  {
   "cell_type": "code",
   "execution_count": null,
   "metadata": {},
   "outputs": [],
   "source": []
  },
  {
   "cell_type": "markdown",
   "metadata": {},
   "source": [
    "---"
   ]
  }
 ],
 "metadata": {
  "kernelspec": {
   "display_name": "Python 3",
   "language": "python",
   "name": "python3"
  },
  "language_info": {
   "codemirror_mode": {
    "name": "ipython",
    "version": 3
   },
   "file_extension": ".py",
   "mimetype": "text/x-python",
   "name": "python",
   "nbconvert_exporter": "python",
   "pygments_lexer": "ipython3",
   "version": "3.8.5"
  }
 },
 "nbformat": 4,
 "nbformat_minor": 4
}
